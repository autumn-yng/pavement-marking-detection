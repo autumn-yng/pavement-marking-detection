{
 "cells": [
  {
   "cell_type": "markdown",
   "metadata": {},
   "source": [
    "## Download satellite images by making API requests to MapBox, passing in lat-lon coordinates from a GeoJSON file.\n",
    "The code can also be adapted to downloading satellite images from other sources like Google Maps Static Images.\n",
    "\n",
    "Author: Autumn Nguyen\n",
    "Date: June 2024"
   ]
  },
  {
   "cell_type": "code",
   "execution_count": 1,
   "metadata": {},
   "outputs": [],
   "source": [
    "import requests"
   ]
  },
  {
   "cell_type": "code",
   "execution_count": 4,
   "metadata": {},
   "outputs": [
    {
     "name": "stdout",
     "output_type": "stream",
     "text": [
      "[{'latitude': '35.05237176', 'longitude': '-85.30960667', 'intersection': '4th St & Market St'}, {'latitude': '35.07308169', 'longitude': '-85.10979437', 'intersection': 'Apison Pk & I-75 NB Ramp'}, {'latitude': '35.07213401', 'longitude': '-85.10782099', 'intersection': 'Apison Pk & Summit Spring Way'}, {'latitude': '35.03189971', 'longitude': '-85.2650059', 'intersection': 'Bailey Ave & McCallie Ave'}, {'latitude': '35.06866899', 'longitude': '-85.14730445', 'intersection': 'Bonny Oaks Dr & Volkswagen Dr'}, {'latitude': '35.01147737', 'longitude': '-85.21466367', 'intersection': 'Brainerd Rd & Eastgate Loop West'}, {'latitude': '35.01404297', 'longitude': '-85.21108044', 'intersection': 'Brainerd Rd & Greenway View Dr'}, {'latitude': '35.04195379', 'longitude': '-85.30963234', 'intersection': 'Broad St & W 12th St'}, {'latitude': '35.04983573', 'longitude': '-85.31058587', 'intersection': 'Broad St & W 6th St'}, {'latitude': '35.02036083', 'longitude': '-85.365786', 'intersection': 'Browns Ferry @ Cummings Hwy'}, {'latitude': '35.04961124', 'longitude': '-85.31169088', 'intersection': 'Chestnut St & W 6th St'}, {'latitude': '35.05486202', 'longitude': '-85.31189749', 'intersection': 'Chestnut St & W Aquarium Way'}, {'latitude': '35.05250964', 'longitude': '-85.30861659', 'intersection': 'E 4th St & Cherry St'}, {'latitude': '35.05250552', 'longitude': '-85.3044816', 'intersection': 'E 4th St & Georgia Ave'}, {'latitude': '35.05237902', 'longitude': '-85.30544757', 'intersection': 'E 4th St & High St'}, {'latitude': '35.05155524', 'longitude': '-85.3016609', 'intersection': 'E 4th St & Houston St'}, {'latitude': '35.05207307', 'longitude': '-85.30292497', 'intersection': 'E 4th St & Lindsay St'}, {'latitude': '35.0526233', 'longitude': '-85.3075393', 'intersection': 'E 4th St & Walnut St'}, {'latitude': '35.00413205', 'longitude': '-85.14954486', 'intersection': 'E. Brainerd Rd & Graysville Rd'}, {'latitude': '35.00084243', 'longitude': '-85.13264508', 'intersection': 'E. Brainerd Rd & Hurricane Creek Rd'}, {'latitude': '35.06253229', 'longitude': '-85.30669255', 'intersection': 'Frazier Ave & Forest Ave'}, {'latitude': '35.04994991', 'longitude': '-85.30603159', 'intersection': 'Georgia Ave & E 6th St'}, {'latitude': '35.04841361', 'longitude': '-85.30679233', 'intersection': 'Georgia Ave & E 7th St / McCallie Ave'}, {'latitude': '35.0472286', 'longitude': '-85.30754122', 'intersection': 'Georgia Ave & E 8th St'}, {'latitude': '35.03228931', 'longitude': '-85.1544725', 'intersection': 'Gunbarrel Rd & Hamilton Place Blvd'}, {'latitude': '35.04364978', 'longitude': '-85.14818003', 'intersection': 'Gunbarrel Rd & McCutcheon Rd'}, {'latitude': '35.07713316', 'longitude': '-85.15431778', 'intersection': 'Hickory Valley Rd & Discovery Dr'}, {'latitude': '35.08483685', 'longitude': '-85.06352095', 'intersection': 'Lee Hwy & Little Debbie Pkwy'}, {'latitude': '35.08348197', 'longitude': '-85.0643077', 'intersection': 'Little Debbie Pkwy & Old Lee Hwy'}, {'latitude': '35.04485627', 'longitude': '-85.30941001', 'intersection': 'Market St & 10th St'}, {'latitude': '35.04392385', 'longitude': '-85.30937014', 'intersection': 'Market St & 11th St'}, {'latitude': '35.0314926', 'longitude': '-85.30881042', 'intersection': 'Market St & 20th St'}, {'latitude': '35.05352655', 'longitude': '-85.30966059', 'intersection': 'Market St & 3rd St'}, {'latitude': '35.0509268', 'longitude': '-85.30958548', 'intersection': 'Market St & 5th St'}, {'latitude': '35.0496796', 'longitude': '-85.30954257', 'intersection': 'Market St & 6th St'}, {'latitude': '35.04838845', 'longitude': '-85.30944601', 'intersection': 'Market St & 7th St'}, {'latitude': '35.04711486', 'longitude': '-85.30946747', 'intersection': 'Market St & 8th St'}, {'latitude': '35.05495813', 'longitude': '-85.30973569', 'intersection': 'Market St & Aquarium Way'}, {'latitude': '35.03779746', 'longitude': '-85.3074188', 'intersection': 'Market St & Choo Choo Ave'}, {'latitude': '35.042038', 'longitude': '-85.30877704', 'intersection': 'Market St & Houston St / W 12th St'}, {'latitude': '35.0395599', 'longitude': '-85.30757926', 'intersection': 'Market St & King St / W 13th St'}, {'latitude': '35.03613951', 'longitude': '-85.30734751', 'intersection': 'Market St & Main St'}, {'latitude': '35.04705198', 'longitude': '-85.30413324', 'intersection': 'McCallie Ave & Houston St'}, {'latitude': '35.04768453', 'longitude': '-85.30552647', 'intersection': 'McCallie Ave & Lindsay St'}, {'latitude': '35.0397725', 'longitude': '-85.29212188', 'intersection': 'MLK Blvd / Bailey Ave & Central Ave'}, {'latitude': '35.04569462', 'longitude': '-85.31039156', 'intersection': 'MLK Blvd & Broad St'}, {'latitude': '35.04573321', 'longitude': '-85.31162895', 'intersection': 'MLK Blvd & Chestnut St'}, {'latitude': '35.04376342', 'longitude': '-85.30290081', 'intersection': 'MLK Blvd & Douglas St'}, {'latitude': '35.04576048', 'longitude': '-85.30826726', 'intersection': 'MLK Blvd & Georgia Ave'}, {'latitude': '35.04475245', 'longitude': '-85.30554338', 'intersection': 'MLK Blvd & Houston St'}, {'latitude': '35.04525171', 'longitude': '-85.3068908', 'intersection': 'MLK Blvd & Lindsay St'}, {'latitude': '35.04131933', 'longitude': '-85.29622759', 'intersection': 'MLK Blvd & Magnolia St'}, {'latitude': '35.04578833', 'longitude': '-85.30942807', 'intersection': 'MLK Blvd & Market St'}, {'latitude': '35.04229412', 'longitude': '-85.29881208', 'intersection': 'MLK Blvd & Peeples St'}, {'latitude': '35.04604888', 'longitude': '-85.31258511', 'intersection': 'MLK Blvd & Pine St'}, {'latitude': '35.0626733', 'longitude': '-85.3085245', 'intersection': 'N Market St & Cherokee Blvd / Frazier Ave'}, {'latitude': '35.06541639', 'longitude': '-85.30905659', 'intersection': 'N. Market St & Manning St / Publix'}, {'latitude': '34.9900998', 'longitude': '-85.20157453', 'intersection': 'Ringgold Rd & I-75 NB'}, {'latitude': '34.98980786', 'longitude': '-85.2050489', 'intersection': 'Ringgold Rd & I-75 SB'}, {'latitude': '34.99001868', 'longitude': '-85.19950726', 'intersection': 'Ringgold Rd & St. Thomas St'}, {'latitude': '35.04030211', 'longitude': '-85.14997821', 'intersection': 'Shallowford Rd & Gunbarrel Rd'}, {'latitude': '35.04212473', 'longitude': '-85.15487944', 'intersection': 'Shallowford Rd & I-75 NB'}, {'latitude': '35.04285989', 'longitude': '-85.15688109', 'intersection': 'Shallowford Rd & I-75 SB'}, {'latitude': '35.04091476', 'longitude': '-85.15158701', 'intersection': 'Shallowford Rd & Lifestyle Way'}, {'latitude': '35.04180309', 'longitude': '-85.15401892', 'intersection': 'Shallowford Rd & Napier Rd / Hamilton Place Blvd'}, {'latitude': '35.04330412', 'longitude': '-85.15811124', 'intersection': 'Shallowford Rd & Shallowford Village Dr / Amin Dr'}, {'latitude': '35.0425488', 'longitude': '-85.18574043', 'intersection': 'Shepherd Rd & Hwy 153 NB Ramp'}, {'latitude': '35.05242512', 'longitude': '-85.31059703', 'intersection': 'W 4th St & Broad St'}, {'latitude': '35.05226656', 'longitude': '-85.31180021', 'intersection': 'W 4th St & Chestnut St'}]\n"
     ]
    }
   ],
   "source": [
    "# Parse GridSmart GeoJSON to array of dictionaries\n",
    "import json\n",
    "\n",
    "# Load the GeoJSON data\n",
    "with open('gridsmart.geojson') as f:\n",
    "    data = json.load(f)\n",
    "\n",
    "# Extract the required information\n",
    "parsed_data = [\n",
    "    {\n",
    "        \"latitude\": feature[\"properties\"][\"latitude\"],\n",
    "        \"longitude\": feature[\"properties\"][\"longitude\"],\n",
    "        \"intersection\": feature[\"properties\"][\"intersection\"]\n",
    "    }\n",
    "    for feature in data['features']\n",
    "]\n",
    "\n",
    "# Output the parsed data (for demonstration purposes)\n",
    "print(parsed_data)"
   ]
  },
  {
   "cell_type": "code",
   "execution_count": 6,
   "metadata": {},
   "outputs": [],
   "source": [
    "# Write GridSmart data from array to dicts to CSV\n",
    "# no need to run again\n",
    "import csv\n",
    "\n",
    "csv_file = 'gridsmart_lat_lon_intersections.csv'\n",
    "with open(csv_file, mode='w', newline='') as file:\n",
    "    writer = csv.DictWriter(file, fieldnames=[\"latitude\", \"longitude\", \"intersection\"])\n",
    "    writer.writeheader()\n",
    "    writer.writerows(parsed_data)"
   ]
  },
  {
   "cell_type": "code",
   "execution_count": 7,
   "metadata": {},
   "outputs": [
    {
     "name": "stdout",
     "output_type": "stream",
     "text": [
      "Image 1 downloaded successfully.\n",
      "Image 2 downloaded successfully.\n",
      "Image 3 downloaded successfully.\n",
      "Image 4 downloaded successfully.\n",
      "Image 5 downloaded successfully.\n",
      "Image 6 downloaded successfully.\n",
      "Image 7 downloaded successfully.\n",
      "Image 8 downloaded successfully.\n",
      "Image 9 downloaded successfully.\n",
      "Image 10 downloaded successfully.\n",
      "Image 11 downloaded successfully.\n",
      "Image 12 downloaded successfully.\n",
      "Image 13 downloaded successfully.\n",
      "Image 14 downloaded successfully.\n",
      "Image 15 downloaded successfully.\n",
      "Image 16 downloaded successfully.\n",
      "Image 17 downloaded successfully.\n",
      "Image 18 downloaded successfully.\n",
      "Image 19 downloaded successfully.\n",
      "Image 20 downloaded successfully.\n",
      "Image 21 downloaded successfully.\n",
      "Image 22 downloaded successfully.\n",
      "Image 23 downloaded successfully.\n",
      "Image 24 downloaded successfully.\n",
      "Image 25 downloaded successfully.\n",
      "Image 26 downloaded successfully.\n",
      "Image 27 downloaded successfully.\n",
      "Image 28 downloaded successfully.\n",
      "Image 29 downloaded successfully.\n",
      "Image 30 downloaded successfully.\n",
      "Image 31 downloaded successfully.\n",
      "Image 32 downloaded successfully.\n",
      "Image 33 downloaded successfully.\n",
      "Image 34 downloaded successfully.\n",
      "Image 35 downloaded successfully.\n",
      "Image 36 downloaded successfully.\n",
      "Image 37 downloaded successfully.\n",
      "Image 38 downloaded successfully.\n",
      "Image 39 downloaded successfully.\n",
      "Image 40 downloaded successfully.\n",
      "Image 41 downloaded successfully.\n",
      "Image 42 downloaded successfully.\n",
      "Image 43 downloaded successfully.\n",
      "Image 44 downloaded successfully.\n",
      "Image 45 downloaded successfully.\n",
      "Image 46 downloaded successfully.\n",
      "Image 47 downloaded successfully.\n",
      "Image 48 downloaded successfully.\n",
      "Image 49 downloaded successfully.\n",
      "Image 50 downloaded successfully.\n",
      "Image 51 downloaded successfully.\n",
      "Image 52 downloaded successfully.\n",
      "Image 53 downloaded successfully.\n",
      "Image 54 downloaded successfully.\n",
      "Image 55 downloaded successfully.\n",
      "Image 56 downloaded successfully.\n",
      "Image 57 downloaded successfully.\n",
      "Image 58 downloaded successfully.\n",
      "Image 59 downloaded successfully.\n",
      "Image 60 downloaded successfully.\n",
      "Image 61 downloaded successfully.\n",
      "Image 62 downloaded successfully.\n",
      "Image 63 downloaded successfully.\n",
      "Image 64 downloaded successfully.\n",
      "Image 65 downloaded successfully.\n",
      "Image 66 downloaded successfully.\n",
      "Image 67 downloaded successfully.\n",
      "Image 68 downloaded successfully.\n",
      "Image 69 downloaded successfully.\n"
     ]
    }
   ],
   "source": [
    "# Download MapBox images by enumerating through coords in csv file\n",
    "import os\n",
    "import requests\n",
    "import itertools\n",
    "import csv\n",
    "\n",
    "# Define your Mapbox access token\n",
    "access_token = '' # for Autumn: token saved in my research log; for everyone else: sign up for a free MapBox account and get your own token there\n",
    "\n",
    "\n",
    "username = 'mapbox'\n",
    "style_id = 'satellite-v9'  # Mapbox style ID for static satellite imagery\n",
    "overlay = \"?\"\n",
    "image_size = 400  # Maximum size for Mapbox is 1280x1280\n",
    "zoom_level = 18  # High zoom level for detailed imagery\n",
    "\n",
    "# Define the base URL for Mapbox Static Images API\n",
    "base_url = 'https://api.mapbox.com/styles/v1/'\n",
    "\n",
    "def download_image(lon, lat, image_index):\n",
    "    # Construct the request URL\n",
    "    url = f'{base_url}{username}/{style_id}/static/{lon},{lat},{zoom_level}/{image_size}x{image_size}?access_token={access_token}'\n",
    "\n",
    "    # Make the API request\n",
    "    response = requests.get(url)\n",
    "\n",
    "    # Check if the request was successful\n",
    "    if response.status_code == 200:\n",
    "        # Create a new subfolder for the images\n",
    "        subfolder = f'mapbox_{zoom_level}_{image_size}_gridsmart/'\n",
    "        os.makedirs(subfolder, exist_ok=True)\n",
    "\n",
    "        # Define the path to save the image\n",
    "        file_path = os.path.join(subfolder, f'{lon}_{lat}_zoom{zoom_level}.png')\n",
    "\n",
    "        # Save the image to a file\n",
    "        with open(file_path, 'wb') as file:\n",
    "            file.write(response.content)\n",
    "        print(f'Image {image_index} downloaded successfully.')\n",
    "\n",
    "    else:\n",
    "        print(f'Failed to download image {image_index}. Status code: {response.status_code}')\n",
    "\n",
    "# Download images for each location\n",
    "with open('gridsmart_lat_lon_intersections.csv', newline='') as csvfile:\n",
    "    csvreader = csv.DictReader(csvfile)\n",
    "    # for i, location in enumerate(itertools.islice(csvreader, 3)):\n",
    "    for i, location in enumerate(csvreader):\n",
    "        download_image(location['longitude'], location['latitude'], i + 1)\n"
   ]
  },
  {
   "cell_type": "code",
   "execution_count": null,
   "metadata": {},
   "outputs": [],
   "source": []
  }
 ],
 "metadata": {
  "kernelspec": {
   "display_name": "Python 3",
   "language": "python",
   "name": "python3"
  },
  "language_info": {
   "codemirror_mode": {
    "name": "ipython",
    "version": 3
   },
   "file_extension": ".py",
   "mimetype": "text/x-python",
   "name": "python",
   "nbconvert_exporter": "python",
   "pygments_lexer": "ipython3",
   "version": "3.11.7"
  }
 },
 "nbformat": 4,
 "nbformat_minor": 2
}
